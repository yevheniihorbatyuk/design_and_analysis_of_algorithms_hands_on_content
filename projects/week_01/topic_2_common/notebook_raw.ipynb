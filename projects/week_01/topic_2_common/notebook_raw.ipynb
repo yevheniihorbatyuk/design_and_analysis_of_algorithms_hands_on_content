{
 "cells": [
  {
   "cell_type": "markdown",
   "id": "be0f2245",
   "metadata": {},
   "source": [
    "## Imports"
   ]
  },
  {
   "cell_type": "code",
   "execution_count": null,
   "id": "5d9845bd",
   "metadata": {},
   "outputs": [],
   "source": []
  },
  {
   "cell_type": "code",
   "execution_count": null,
   "id": "72663ecc",
   "metadata": {},
   "outputs": [],
   "source": [
    "# %%capture\n",
    "## Install  rerequirements if needed 🔽\n",
    "# !pip install -r \"../../../requirements.txt\""
   ]
  },
  {
   "cell_type": "code",
   "execution_count": null,
   "id": "183c07f5",
   "metadata": {},
   "outputs": [],
   "source": [
    "from src.main_demo import (\n",
    "    demo_activity_selection,\n",
    "    demo_fractional_knapsack,\n",
    "    demo_huffman_coding,\n",
    "    demo_fibonacci_comparison,\n",
    "    demo_knapsack_01,\n",
    "    demo_coin_change,\n",
    "    demo_graph_algorithms,\n",
    "    demo_tsp,\n",
    "    demo_comprehensive_comparison,\n",
    "    main\n",
    "    )\n",
    "# Імпортуємо наші модулі\n",
    "from src.greedy_algorithms import (\n",
    "    GreedyAlgorithms, HuffmanCoding, GreedyVisualizer,\n",
    "    Activity, Item\n",
    ")\n",
    "from src.dynamic_programming import (\n",
    "    DynamicProgramming, DPVisualizer, PerformanceComparator,\n",
    "    DPItem\n",
    ")\n",
    "from src.graph_algorithms import (\n",
    "    GraphAlgorithms, GraphVisualizer, TSPSolver,\n",
    "    Edge\n",
    ")"
   ]
  },
  {
   "cell_type": "markdown",
   "id": "d346f21c",
   "metadata": {},
   "source": [
    "## Задача про вибір заявок"
   ]
  },
  {
   "cell_type": "code",
   "execution_count": null,
   "id": "a3937480",
   "metadata": {},
   "outputs": [],
   "source": [
    "demo_activity_selection()"
   ]
  },
  {
   "cell_type": "code",
   "execution_count": null,
   "id": "bf10a576",
   "metadata": {},
   "outputs": [],
   "source": [
    "# Реалістичний список подій з назвами та часом (у годинах)\n",
    "activities = [\n",
    "    Activity(\"Ранкова пробіжка\", 6.0, 7.0),\n",
    "    Activity(\"Сніданок з родиною\", 7.0, 8.0),\n",
    "    Activity(\"Робоча зустріч (Zoom)\", 8.5, 9.5),\n",
    "    Activity(\"Глибока робота над проектом\", 9.0, 11.5),\n",
    "    Activity(\"Прогулянка/кава-брейк\", 11.5, 12.0),\n",
    "    Activity(\"Онлайн-лекція\", 12.0, 13.0),\n",
    "    Activity(\"Обід\", 13.0, 14.0),\n",
    "    Activity(\"Зустріч з клієнтом\", 13.5, 14.5),\n",
    "    Activity(\"Читання / навчання\", 14.5, 15.5),\n",
    "    Activity(\"Спортзал\", 16.0, 17.0),\n",
    "    Activity(\"Покупки / справи\", 17.0, 18.0),\n",
    "    Activity(\"Вечеря\", 18.5, 19.5),\n",
    "    Activity(\"Перегляд фільму\", 20.0, 22.0),\n",
    "    Activity(\"Медитація / підготовка до сну\", 22.0, 22.5)\n",
    "]\n",
    "\n",
    "demo_activity_selection(activities)"
   ]
  },
  {
   "cell_type": "markdown",
   "id": "8b2bfd4d",
   "metadata": {},
   "source": [
    "## Задача 2: Задача про дробовий рюкзак (Fractional Knapsack)"
   ]
  },
  {
   "cell_type": "code",
   "execution_count": null,
   "id": "b68f6c76",
   "metadata": {},
   "outputs": [],
   "source": [
    "demo_fractional_knapsack()"
   ]
  },
  {
   "cell_type": "code",
   "execution_count": null,
   "id": "76587ee3",
   "metadata": {},
   "outputs": [],
   "source": [
    "items = [\n",
    "    Item(\"Ноутбук\", 2.0, 300),         # дуже корисний, легкий\n",
    "    Item(\"Пляшка води\", 1.0, 30),      # життєво важлива\n",
    "    Item(\"Книга\", 1.5, 50),            # освітня цінність\n",
    "    Item(\"Павербанк\", 0.5, 80),        # багато користі при малій вазі\n",
    "    Item(\"Куртка\", 2.5, 60),           # потрібна при поганій погоді\n",
    "    Item(\"Аптечка\", 1.0, 90),          # критична для безпеки\n",
    "    Item(\"Їжа (перекус)\", 1.2, 40),    # енергетична підтримка\n",
    "    Item(\"Навушники\", 0.3, 40),        # невелика вага, помірна цінність\n",
    "    Item(\"Планшет\", 0.7, 150),         # альтернатива ноутбуку\n",
    "    Item(\"Термобілизна\", 1.3, 55),     # комфорт в умовах холоду\n",
    "    Item(\"Записник + ручка\", 0.4, 25), # низька вага, деяка користь\n",
    "    Item(\"Ліхтарик\", 0.6, 35),         # важливий у темряві\n",
    "    Item(\"Зарядні кабелі\", 0.2, 20),   # потрібні, але неважкі\n",
    "    Item(\"Фотоапарат\", 1.8, 120),      # висока цінність для блогера\n",
    "    Item(\"Спальний мішок\", 3.5, 110)   # важкий, але критично корисний у поході\n",
    "]\n",
    "\n",
    "capacity = 10\n",
    "\n",
    "demo_fractional_knapsack(items, capacity)"
   ]
  },
  {
   "cell_type": "markdown",
   "id": "3de05cc5",
   "metadata": {},
   "source": [
    "## \"Обмеження Жадібних Алгоритмів\".\n",
    "\n",
    "- Приклад: \"Задача про розмін монет\""
   ]
  },
  {
   "cell_type": "code",
   "execution_count": null,
   "id": "20d982be",
   "metadata": {},
   "outputs": [],
   "source": [
    "PerformanceComparator.compare_coin_change()"
   ]
  },
  {
   "cell_type": "code",
   "execution_count": null,
   "metadata": {},
   "outputs": [],
   "source": [
    "cases = [\n",
    "    # ✅ 1. Класичний випадок (канонічна система)\n",
    "    {\n",
    "        'coins1': [25, 10, 5, 1],\n",
    "        'amount1': 30,\n",
    "        'coins2': [10, 5, 1],\n",
    "        'amount2': 28\n",
    "    },\n",
    "    # ❌ 2. Неканонічна система з \"пасткою\"\n",
    "    {\n",
    "        'coins1': [9, 6, 1],\n",
    "        'amount1': 11,\n",
    "        'coins2': [4, 3, 1],\n",
    "        'amount2': 6\n",
    "    },\n",
    "    # ❌ 3. Випадок із неефективним greedy\n",
    "    {\n",
    "        'coins1': [7, 5, 1],\n",
    "        'amount1': 18,\n",
    "        'coins2': [9, 4, 1],\n",
    "        'amount2': 15\n",
    "    },\n",
    "    # 🧠 4. Нестандартна валюта\n",
    "    {\n",
    "        'coins1': [1, 7, 10, 22],\n",
    "        'amount1': 29,\n",
    "        'coins2': [1, 3, 4],\n",
    "        'amount2': 6\n",
    "    },\n",
    "    # ⚠️ 5. Ситуація, де greedy може бути правильним, але не завжди\n",
    "    {\n",
    "        'coins1': [1, 3, 4],\n",
    "        'amount1': 5,\n",
    "        'coins2': [1, 3, 4],\n",
    "        'amount2': 6\n",
    "    }\n",
    "]\n",
    "\n",
    "for i, param in enumerate(cases, 1):\n",
    "    print(f\"\\n--- ПРИКЛАД {i} ---\")\n",
    "    PerformanceComparator.compare_coin_change(**param)\n"
   ]
  },
  {
   "cell_type": "code",
   "execution_count": null,
   "id": "df5c2e96",
   "metadata": {},
   "outputs": [],
   "source": [
    "demo_coin_change()"
   ]
  },
  {
   "cell_type": "markdown",
   "id": "3136f26f",
   "metadata": {},
   "source": [
    "## Алгоритм Гаффмана (Huffman Coding)"
   ]
  },
  {
   "cell_type": "code",
   "execution_count": null,
   "id": "e4e3f4e5",
   "metadata": {},
   "outputs": [],
   "source": [
    "demo_huffman_coding()"
   ]
  },
  {
   "cell_type": "code",
   "execution_count": null,
   "id": "fc38285b",
   "metadata": {},
   "outputs": [],
   "source": [
    "text = \"SHE SELLS SEA SHELLS BY THE SEA SHORE AND SHE STILL SELLS THEM SURELY\"\n",
    "\n",
    "demo_huffman_coding(text)"
   ]
  },
  {
   "cell_type": "markdown",
   "id": "2aff47fd",
   "metadata": {},
   "source": [
    "## Числа Фібоначчі"
   ]
  },
  {
   "cell_type": "code",
   "execution_count": null,
   "id": "b0e54dd7",
   "metadata": {},
   "outputs": [],
   "source": [
    "demo_fibonacci_comparison()\n"
   ]
  },
  {
   "cell_type": "code",
   "execution_count": null,
   "id": "a5e3c6be",
   "metadata": {
    "tags": [
     "dp"
    ]
   },
   "outputs": [],
   "source": [
    "n = 100\n",
    "\n",
    "demo_fibonacci_comparison(n)\n"
   ]
  },
  {
   "cell_type": "markdown",
   "id": "9bce82b7",
   "metadata": {},
   "source": [
    "## Задача про рюкзак (0/1 Knapsack Problem)"
   ]
  },
  {
   "cell_type": "code",
   "execution_count": null,
   "id": "da7d79ae",
   "metadata": {},
   "outputs": [],
   "source": [
    "\n",
    "demo_knapsack_01()\n"
   ]
  },
  {
   "cell_type": "code",
   "execution_count": null,
   "id": "c0f09cf7",
   "metadata": {},
   "outputs": [],
   "source": [
    "\n",
    "\n",
    "items_01 = [\n",
    "    DPItem(\"Ноутбук\", 3, 2000),         # робота, висока цінність\n",
    "    DPItem(\"Аптечка\", 1, 1000),         # виживання\n",
    "    DPItem(\"Термобілизна\", 2, 700),     # тепло в польових умовах\n",
    "    DPItem(\"Павербанк\", 1, 800),        # живлення\n",
    "    DPItem(\"Ліхтарик\", 1, 500),         # орієнтація вночі\n",
    "    DPItem(\"Фотоапарат\", 2, 1200),      # для фіксації подій\n",
    "    DPItem(\"Їжа\", 3, 900),              # енергія\n",
    "    DPItem(\"Книга\", 1, 300),            # психологічна підтримка\n",
    "]\n",
    "\n",
    "\n",
    "capacity_01 = 8\n",
    "\n",
    "demo_knapsack_01(items=items_01, capacity=capacity_01)\n"
   ]
  },
  {
   "cell_type": "markdown",
   "id": "dca4c3a2",
   "metadata": {},
   "source": [
    "## Алгоритм Дейкстри та Пріма/Крускала"
   ]
  },
  {
   "cell_type": "code",
   "execution_count": null,
   "id": "1288d57f",
   "metadata": {},
   "outputs": [],
   "source": [
    "\n",
    "demo_graph_algorithms()\n"
   ]
  },
  {
   "cell_type": "code",
   "execution_count": null,
   "id": "7553240a",
   "metadata": {},
   "outputs": [],
   "source": [
    "graph = {\n",
    "    'A': [('B', 2), ('C', 5), ('D', 1)],\n",
    "    'B': [('A', 2), ('E', 3), ('F', 7)],\n",
    "    'C': [('A', 5), ('F', 2), ('G', 6)],\n",
    "    'D': [('A', 1), ('G', 1)],\n",
    "    'E': [('B', 3), ('H', 4)],\n",
    "    'F': [('B', 7), ('C', 2), ('H', 3)],\n",
    "    'G': [('C', 6), ('D', 1), ('H', 2)],\n",
    "    'H': [('E', 4), ('F', 3), ('G', 2)]\n",
    "}\n",
    "\n",
    "\n",
    "demo_graph_algorithms(graph=graph, start_node='A')"
   ]
  },
  {
   "cell_type": "markdown",
   "id": "5239dffc",
   "metadata": {},
   "source": [
    "## TSP"
   ]
  },
  {
   "cell_type": "code",
   "execution_count": null,
   "id": "e144df0b",
   "metadata": {},
   "outputs": [],
   "source": [
    "\n",
    "demo_tsp()\n"
   ]
  },
  {
   "cell_type": "code",
   "execution_count": null,
   "id": "2698d1a4",
   "metadata": {},
   "outputs": [],
   "source": [
    "distances = {\n",
    "    ('Київ', 'Львів'): 540,\n",
    "    ('Київ', 'Одеса'): 475,\n",
    "    ('Київ', 'Харків'): 480,\n",
    "    ('Київ', 'Дніпро'): 475,\n",
    "    ('Львів', 'Одеса'): 790,\n",
    "    ('Львів', 'Харків'): 1050,\n",
    "    ('Львів', 'Дніпро'): 930,\n",
    "    ('Одеса', 'Харків'): 730,\n",
    "    ('Одеса', 'Дніпро'): 500,\n",
    "    ('Харків', 'Дніпро'): 210,\n",
    "}\n",
    "\n",
    "\n",
    "demo_tsp(distances=distances, start_city='Київ')"
   ]
  },
  {
   "cell_type": "markdown",
   "id": "d4d54a39",
   "metadata": {},
   "source": [
    "## other:"
   ]
  },
  {
   "cell_type": "code",
   "execution_count": null,
   "id": "844e5ffb",
   "metadata": {},
   "outputs": [],
   "source": [
    "\n",
    "# demo_comprehensive_comparison()\n"
   ]
  },
  {
   "cell_type": "code",
   "execution_count": null,
   "id": "46dbcd33",
   "metadata": {},
   "outputs": [],
   "source": [
    "# main()"
   ]
  },
  {
   "cell_type": "code",
   "execution_count": null,
   "id": "25ee6bd0",
   "metadata": {},
   "outputs": [],
   "source": []
  }
 ],
 "metadata": {
  "kernelspec": {
   "display_name": ".venv",
   "language": "python",
   "name": "python3"
  },
  "language_info": {
   "codemirror_mode": {
    "name": "ipython",
    "version": 3
   },
   "file_extension": ".py",
   "mimetype": "text/x-python",
   "name": "python",
   "nbconvert_exporter": "python",
   "pygments_lexer": "ipython3",
   "version": "3.12.3"
  }
 },
 "nbformat": 4,
 "nbformat_minor": 5
}
